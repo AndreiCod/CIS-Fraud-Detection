{
 "cells": [
  {
   "cell_type": "markdown",
   "metadata": {},
   "source": [
    "# Feature Engineering"
   ]
  },
  {
   "cell_type": "code",
   "execution_count": 129,
   "metadata": {},
   "outputs": [],
   "source": [
    "import numpy as np\n",
    "import pandas as pd\n",
    "import matplotlib.pyplot as plt\n",
    "import seaborn as sns\n",
    "import os"
   ]
  },
  {
   "cell_type": "markdown",
   "metadata": {},
   "source": [
    "## Importing Data"
   ]
  },
  {
   "cell_type": "code",
   "execution_count": 130,
   "metadata": {},
   "outputs": [],
   "source": [
    "def read_data(path: str) -> pd.DataFrame:\n",
    "    df_train = pd.read_feather(os.path.join(path, 'train_combined.feather'))\n",
    "    df_test = pd.read_feather(os.path.join(path, 'test_combined.feather'))\n",
    "\n",
    "    return df_train, df_test"
   ]
  },
  {
   "cell_type": "code",
   "execution_count": 131,
   "metadata": {},
   "outputs": [],
   "source": [
    "df_train, df_test = read_data('../data')"
   ]
  },
  {
   "cell_type": "markdown",
   "metadata": {},
   "source": [
    "## Perform feature engineering"
   ]
  },
  {
   "cell_type": "markdown",
   "metadata": {},
   "source": [
    "### Eliminating missing cols"
   ]
  },
  {
   "cell_type": "code",
   "execution_count": 132,
   "metadata": {},
   "outputs": [],
   "source": [
    "def top_missing_cols(df: pd.DataFrame, thersh: int=80) -> list:\n",
    "    dff = (df.isnull().sum() / df.shape[0]) * 100\n",
    "    dff.columns = ['col_name', 'missing_percent']\n",
    "    dff.sort_values(ascending=False, inplace=True)\n",
    "    dff = dff[dff > thersh]\n",
    "    return list(dff.keys())"
   ]
  },
  {
   "cell_type": "code",
   "execution_count": 133,
   "metadata": {},
   "outputs": [],
   "source": [
    "def remove_top_missing_cols(df: pd.DataFrame, thersh: int=80) -> list:\n",
    "    top_missing_cols_name = top_missing_cols(df, thersh=90)\n",
    "    dff = df.copy()\n",
    "    dff = dff.drop(columns=top_missing_cols_name)\n",
    "    return dff"
   ]
  },
  {
   "cell_type": "markdown",
   "metadata": {},
   "source": [
    "### Adding hour_of_day and day_of_week features"
   ]
  },
  {
   "cell_type": "code",
   "execution_count": 134,
   "metadata": {},
   "outputs": [],
   "source": [
    "def  adding_time_features(df: pd.DataFrame) -> pd.DataFrame:\n",
    "    dff = df.copy()\n",
    "    dff['day_of_week'] = (df_train['TransactionDT']//(60*60*24)-1)%7\n",
    "    dff['hour_of_day'] = (df_train['TransactionDT']//(60*60))%24\n",
    "    return dff"
   ]
  },
  {
   "cell_type": "code",
   "execution_count": 135,
   "metadata": {},
   "outputs": [],
   "source": [
    "time_features = ['day_of_week', 'hour_of_day']"
   ]
  },
  {
   "cell_type": "markdown",
   "metadata": {},
   "source": [
    "### Eliminating correlated columns"
   ]
  },
  {
   "cell_type": "code",
   "execution_count": 136,
   "metadata": {},
   "outputs": [],
   "source": [
    "def numerical_cols(df: pd.DataFrame) -> list:\n",
    "    l = list(df.select_dtypes(include='number'))\n",
    "    return l"
   ]
  },
  {
   "cell_type": "code",
   "execution_count": 137,
   "metadata": {},
   "outputs": [],
   "source": [
    "def get_cols_eliminate(df: pd.DataFrame, thresh: float = 0.90) -> list:\n",
    "    dff = df.copy()\n",
    "    dff = dff[numerical_cols(dff)]\n",
    "    if 'isFraud' in dff.columns:\n",
    "        dff = dff.drop(columns=['isFraud'])\n",
    "    if 'TransactionDT' in dff.columns:\n",
    "        dff = dff.drop(columns=['TransactionDT'])\n",
    "    corr_mat = dff.corr().abs()\n",
    "    upper_tri = corr_mat.where(np.triu(np.ones(corr_mat.shape),k=1).astype(bool))\n",
    "    to_drop = [column for column in upper_tri.columns if any(upper_tri[column] > thresh)]\n",
    "    return to_drop"
   ]
  },
  {
   "cell_type": "code",
   "execution_count": 138,
   "metadata": {},
   "outputs": [],
   "source": [
    "def eliminate_corr_cols(df: pd.DataFrame, thresh: float = 0.90) -> pd.DataFrame:\n",
    "    cols = get_cols_eliminate(df, thresh)\n",
    "    dff = df.copy()\n",
    "    dff = dff.drop(columns=cols)\n",
    "    return dff"
   ]
  },
  {
   "cell_type": "markdown",
   "metadata": {},
   "source": [
    "### Eliminating Outliers"
   ]
  },
  {
   "cell_type": "code",
   "execution_count": 139,
   "metadata": {},
   "outputs": [],
   "source": [
    "def eliminate_outliers(df: pd.DataFrame) -> pd.DataFrame:\n",
    "    dff = df.copy()\n",
    "    if not 'TransactionAmt' in dff.columns:\n",
    "        return dff\n",
    "    \n",
    "    dff = dff[dff.TransactionAmt < 30000]\n",
    "    dff = dff.reset_index(drop=True)\n",
    "\n",
    "    return dff"
   ]
  },
  {
   "cell_type": "markdown",
   "metadata": {},
   "source": [
    "### Adding uid feature from card1 D1 and addr1"
   ]
  },
  {
   "cell_type": "code",
   "execution_count": 140,
   "metadata": {},
   "outputs": [],
   "source": [
    "def add_uid(df: pd.DataFrame) -> pd.DataFrame:\n",
    "    dff = df.copy()\n",
    "    if not ('card1', 'D1', 'addr1' in dff.columns):\n",
    "        print('Missing columns')\n",
    "        return dff\n",
    "    \n",
    "    dff['uid'] = dff['card1'].astype(str) + '_' + dff['D1'].astype(str) + '_' + dff['addr1'].astype(str)\n",
    "\n",
    "    return dff"
   ]
  },
  {
   "cell_type": "markdown",
   "metadata": {},
   "source": [
    "### Pipeline"
   ]
  },
  {
   "cell_type": "code",
   "execution_count": 141,
   "metadata": {},
   "outputs": [],
   "source": [
    "def pipeline(df: pd.DataFrame) -> pd.DataFrame:\n",
    "    dff = df.copy()\n",
    "    dff = add_uid(dff)\n",
    "    dff = eliminate_outliers(dff)\n",
    "    dff = eliminate_corr_cols(dff, 0.9)\n",
    "    dff = remove_top_missing_cols(dff, 90)\n",
    "    dff = adding_time_features(dff)\n",
    "    return dff"
   ]
  },
  {
   "cell_type": "code",
   "execution_count": 142,
   "metadata": {},
   "outputs": [],
   "source": [
    "dff = df_train.copy()\n",
    "dff = pipeline(dff)"
   ]
  },
  {
   "cell_type": "code",
   "execution_count": 143,
   "metadata": {},
   "outputs": [
    {
     "data": {
      "text/html": [
       "<div>\n",
       "<style scoped>\n",
       "    .dataframe tbody tr th:only-of-type {\n",
       "        vertical-align: middle;\n",
       "    }\n",
       "\n",
       "    .dataframe tbody tr th {\n",
       "        vertical-align: top;\n",
       "    }\n",
       "\n",
       "    .dataframe thead th {\n",
       "        text-align: right;\n",
       "    }\n",
       "</style>\n",
       "<table border=\"1\" class=\"dataframe\">\n",
       "  <thead>\n",
       "    <tr style=\"text-align: right;\">\n",
       "      <th></th>\n",
       "      <th>TransactionID</th>\n",
       "      <th>isFraud</th>\n",
       "      <th>TransactionDT</th>\n",
       "      <th>TransactionAmt</th>\n",
       "      <th>ProductCD</th>\n",
       "      <th>card1</th>\n",
       "      <th>card2</th>\n",
       "      <th>card3</th>\n",
       "      <th>card4</th>\n",
       "      <th>card5</th>\n",
       "      <th>...</th>\n",
       "      <th>id_34</th>\n",
       "      <th>id_35</th>\n",
       "      <th>id_36</th>\n",
       "      <th>id_37</th>\n",
       "      <th>id_38</th>\n",
       "      <th>DeviceType</th>\n",
       "      <th>DeviceInfo</th>\n",
       "      <th>uid</th>\n",
       "      <th>day_of_week</th>\n",
       "      <th>hour_of_day</th>\n",
       "    </tr>\n",
       "  </thead>\n",
       "  <tbody>\n",
       "    <tr>\n",
       "      <th>0</th>\n",
       "      <td>2987000</td>\n",
       "      <td>0</td>\n",
       "      <td>86400</td>\n",
       "      <td>68.5</td>\n",
       "      <td>W</td>\n",
       "      <td>13926</td>\n",
       "      <td>NaN</td>\n",
       "      <td>150.0</td>\n",
       "      <td>discover</td>\n",
       "      <td>142.0</td>\n",
       "      <td>...</td>\n",
       "      <td>None</td>\n",
       "      <td>None</td>\n",
       "      <td>None</td>\n",
       "      <td>None</td>\n",
       "      <td>None</td>\n",
       "      <td>None</td>\n",
       "      <td>None</td>\n",
       "      <td>13926_14.0_315.0</td>\n",
       "      <td>0</td>\n",
       "      <td>0</td>\n",
       "    </tr>\n",
       "    <tr>\n",
       "      <th>1</th>\n",
       "      <td>2987001</td>\n",
       "      <td>0</td>\n",
       "      <td>86401</td>\n",
       "      <td>29.0</td>\n",
       "      <td>W</td>\n",
       "      <td>2755</td>\n",
       "      <td>404.0</td>\n",
       "      <td>150.0</td>\n",
       "      <td>mastercard</td>\n",
       "      <td>102.0</td>\n",
       "      <td>...</td>\n",
       "      <td>None</td>\n",
       "      <td>None</td>\n",
       "      <td>None</td>\n",
       "      <td>None</td>\n",
       "      <td>None</td>\n",
       "      <td>None</td>\n",
       "      <td>None</td>\n",
       "      <td>2755_0.0_325.0</td>\n",
       "      <td>0</td>\n",
       "      <td>0</td>\n",
       "    </tr>\n",
       "    <tr>\n",
       "      <th>2</th>\n",
       "      <td>2987002</td>\n",
       "      <td>0</td>\n",
       "      <td>86469</td>\n",
       "      <td>59.0</td>\n",
       "      <td>W</td>\n",
       "      <td>4663</td>\n",
       "      <td>490.0</td>\n",
       "      <td>150.0</td>\n",
       "      <td>visa</td>\n",
       "      <td>166.0</td>\n",
       "      <td>...</td>\n",
       "      <td>None</td>\n",
       "      <td>None</td>\n",
       "      <td>None</td>\n",
       "      <td>None</td>\n",
       "      <td>None</td>\n",
       "      <td>None</td>\n",
       "      <td>None</td>\n",
       "      <td>4663_0.0_330.0</td>\n",
       "      <td>0</td>\n",
       "      <td>0</td>\n",
       "    </tr>\n",
       "    <tr>\n",
       "      <th>3</th>\n",
       "      <td>2987003</td>\n",
       "      <td>0</td>\n",
       "      <td>86499</td>\n",
       "      <td>50.0</td>\n",
       "      <td>W</td>\n",
       "      <td>18132</td>\n",
       "      <td>567.0</td>\n",
       "      <td>150.0</td>\n",
       "      <td>mastercard</td>\n",
       "      <td>117.0</td>\n",
       "      <td>...</td>\n",
       "      <td>None</td>\n",
       "      <td>None</td>\n",
       "      <td>None</td>\n",
       "      <td>None</td>\n",
       "      <td>None</td>\n",
       "      <td>None</td>\n",
       "      <td>None</td>\n",
       "      <td>18132_112.0_476.0</td>\n",
       "      <td>0</td>\n",
       "      <td>0</td>\n",
       "    </tr>\n",
       "    <tr>\n",
       "      <th>4</th>\n",
       "      <td>2987004</td>\n",
       "      <td>0</td>\n",
       "      <td>86506</td>\n",
       "      <td>50.0</td>\n",
       "      <td>H</td>\n",
       "      <td>4497</td>\n",
       "      <td>514.0</td>\n",
       "      <td>150.0</td>\n",
       "      <td>mastercard</td>\n",
       "      <td>102.0</td>\n",
       "      <td>...</td>\n",
       "      <td>match_status:2</td>\n",
       "      <td>T</td>\n",
       "      <td>F</td>\n",
       "      <td>T</td>\n",
       "      <td>T</td>\n",
       "      <td>mobile</td>\n",
       "      <td>SAMSUNG SM-G892A Build/NRD90M</td>\n",
       "      <td>4497_0.0_420.0</td>\n",
       "      <td>0</td>\n",
       "      <td>0</td>\n",
       "    </tr>\n",
       "  </tbody>\n",
       "</table>\n",
       "<p>5 rows × 231 columns</p>\n",
       "</div>"
      ],
      "text/plain": [
       "   TransactionID  isFraud  TransactionDT  TransactionAmt ProductCD  card1  \\\n",
       "0        2987000        0          86400            68.5         W  13926   \n",
       "1        2987001        0          86401            29.0         W   2755   \n",
       "2        2987002        0          86469            59.0         W   4663   \n",
       "3        2987003        0          86499            50.0         W  18132   \n",
       "4        2987004        0          86506            50.0         H   4497   \n",
       "\n",
       "   card2  card3       card4  card5  ...           id_34  id_35  id_36  id_37  \\\n",
       "0    NaN  150.0    discover  142.0  ...            None   None   None   None   \n",
       "1  404.0  150.0  mastercard  102.0  ...            None   None   None   None   \n",
       "2  490.0  150.0        visa  166.0  ...            None   None   None   None   \n",
       "3  567.0  150.0  mastercard  117.0  ...            None   None   None   None   \n",
       "4  514.0  150.0  mastercard  102.0  ...  match_status:2      T      F      T   \n",
       "\n",
       "  id_38 DeviceType                     DeviceInfo                uid  \\\n",
       "0  None       None                           None   13926_14.0_315.0   \n",
       "1  None       None                           None     2755_0.0_325.0   \n",
       "2  None       None                           None     4663_0.0_330.0   \n",
       "3  None       None                           None  18132_112.0_476.0   \n",
       "4     T     mobile  SAMSUNG SM-G892A Build/NRD90M     4497_0.0_420.0   \n",
       "\n",
       "   day_of_week  hour_of_day  \n",
       "0            0            0  \n",
       "1            0            0  \n",
       "2            0            0  \n",
       "3            0            0  \n",
       "4            0            0  \n",
       "\n",
       "[5 rows x 231 columns]"
      ]
     },
     "execution_count": 143,
     "metadata": {},
     "output_type": "execute_result"
    }
   ],
   "source": [
    "dff.head()"
   ]
  },
  {
   "cell_type": "code",
   "execution_count": 144,
   "metadata": {},
   "outputs": [
    {
     "data": {
      "text/plain": [
       "<bound method DataFrame.info of         TransactionID  isFraud  TransactionDT  TransactionAmt ProductCD  \\\n",
       "0             2987000        0          86400           68.50         W   \n",
       "1             2987001        0          86401           29.00         W   \n",
       "2             2987002        0          86469           59.00         W   \n",
       "3             2987003        0          86499           50.00         W   \n",
       "4             2987004        0          86506           50.00         H   \n",
       "...               ...      ...            ...             ...       ...   \n",
       "590533        3577535        0       15811047           49.00         W   \n",
       "590534        3577536        0       15811049           39.50         W   \n",
       "590535        3577537        0       15811079           30.95         W   \n",
       "590536        3577538        0       15811088          117.00         W   \n",
       "590537        3577539        0       15811131          279.95         W   \n",
       "\n",
       "        card1  card2  card3       card4  card5  ...           id_34  id_35  \\\n",
       "0       13926    NaN  150.0    discover  142.0  ...            None   None   \n",
       "1        2755  404.0  150.0  mastercard  102.0  ...            None   None   \n",
       "2        4663  490.0  150.0        visa  166.0  ...            None   None   \n",
       "3       18132  567.0  150.0  mastercard  117.0  ...            None   None   \n",
       "4        4497  514.0  150.0  mastercard  102.0  ...  match_status:2      T   \n",
       "...       ...    ...    ...         ...    ...  ...             ...    ...   \n",
       "590533   6550    NaN  150.0        visa  226.0  ...            None   None   \n",
       "590534  10444  225.0  150.0  mastercard  224.0  ...            None   None   \n",
       "590535  12037  595.0  150.0  mastercard  224.0  ...            None   None   \n",
       "590536   7826  481.0  150.0  mastercard  224.0  ...            None   None   \n",
       "590537  15066  170.0  150.0  mastercard  102.0  ...            None   None   \n",
       "\n",
       "        id_36  id_37 id_38 DeviceType                     DeviceInfo  \\\n",
       "0        None   None  None       None                           None   \n",
       "1        None   None  None       None                           None   \n",
       "2        None   None  None       None                           None   \n",
       "3        None   None  None       None                           None   \n",
       "4           F      T     T     mobile  SAMSUNG SM-G892A Build/NRD90M   \n",
       "...       ...    ...   ...        ...                            ...   \n",
       "590533   None   None  None       None                           None   \n",
       "590534   None   None  None       None                           None   \n",
       "590535   None   None  None       None                           None   \n",
       "590536   None   None  None       None                           None   \n",
       "590537   None   None  None       None                           None   \n",
       "\n",
       "                      uid  day_of_week  hour_of_day  \n",
       "0        13926_14.0_315.0            0            0  \n",
       "1          2755_0.0_325.0            0            0  \n",
       "2          4663_0.0_330.0            0            0  \n",
       "3       18132_112.0_476.0            0            0  \n",
       "4          4497_0.0_420.0            0            0  \n",
       "...                   ...          ...          ...  \n",
       "590533    6550_29.0_272.0            6           23  \n",
       "590534    10444_0.0_204.0            6           23  \n",
       "590535    12037_0.0_231.0            6           23  \n",
       "590536    7826_22.0_387.0            6           23  \n",
       "590537    15066_0.0_299.0            6           23  \n",
       "\n",
       "[590538 rows x 231 columns]>"
      ]
     },
     "execution_count": 144,
     "metadata": {},
     "output_type": "execute_result"
    }
   ],
   "source": [
    "dff.info"
   ]
  },
  {
   "cell_type": "markdown",
   "metadata": {},
   "source": [
    "## Logistic Pipeline"
   ]
  },
  {
   "cell_type": "code",
   "execution_count": 145,
   "metadata": {},
   "outputs": [],
   "source": [
    "from sklearn.linear_model import LogisticRegression\n",
    "from sklearn.metrics import roc_curve, auc\n",
    "from sklearn.impute import SimpleImputer\n",
    "from sklearn.preprocessing import StandardScaler, LabelEncoder"
   ]
  },
  {
   "cell_type": "code",
   "execution_count": 146,
   "metadata": {},
   "outputs": [],
   "source": [
    "def numerical_cols(df: pd.DataFrame) -> list:\n",
    "    l = list(df.select_dtypes(include='number'))\n",
    "    # if 'isFraud' in l:\n",
    "    #     l.remove('isFraud')\n",
    "    return l"
   ]
  },
  {
   "cell_type": "code",
   "execution_count": 147,
   "metadata": {},
   "outputs": [],
   "source": [
    "def inf_to_nan(df: pd.DataFrame) -> pd.DataFrame:\n",
    "    return df.replace([np.inf, -np.inf], np.nan)"
   ]
  },
  {
   "cell_type": "code",
   "execution_count": 148,
   "metadata": {},
   "outputs": [],
   "source": [
    "def fill_numerical_cols_and_scale(df: pd.DataFrame, exclude: list = []) -> pd.DataFrame:\n",
    "    cols = numerical_cols(df)\n",
    "\n",
    "    if 'index' in cols:\n",
    "        cols.remove('index')\n",
    "\n",
    "    if 'isFraud' in cols:\n",
    "        cols.remove('isFraud')\n",
    "    \n",
    "    for col in exclude:\n",
    "        if col in cols:\n",
    "            cols.remove(col)\n",
    "\n",
    "    dff = df.copy()\n",
    "    dff[cols] = inf_to_nan(dff[cols])\n",
    "\n",
    "    imputer = SimpleImputer(strategy='median')\n",
    "    dff[cols] = imputer.fit_transform(dff[cols])\n",
    "\n",
    "    scaler = StandardScaler()\n",
    "    dff[cols] = scaler.fit_transform(dff[cols])\n",
    "\n",
    "    return dff"
   ]
  },
  {
   "cell_type": "code",
   "execution_count": 149,
   "metadata": {},
   "outputs": [],
   "source": [
    "def label_encoding(df: pd.DataFrame, include: list = []) -> pd.DataFrame:\n",
    "    cols = (['ProductCD'] + \n",
    "            ['card%d' % i for i in range(1, 7)] + \n",
    "            ['addr1', 'addr2', 'P_emaildomain', 'R_emaildomain'] + \n",
    "            ['DeviceType', 'DeviceInfo'] +\n",
    "            ['M%d' % i for i in range(1, 10)] + \n",
    "            ['id_%d' % i for i in range(12, 39)] +\n",
    "            include)\n",
    "    \n",
    "    dff = df.copy()\n",
    "    for col in cols:\n",
    "        if col in dff.columns:\n",
    "            dff[col] = dff[col].astype('object')\n",
    "            dff[col] = dff[col].fillna('MISSING')\n",
    "\n",
    "            lb = LabelEncoder()\n",
    "            lb.fit(list(dff[col].values))\n",
    "            dff[col] = lb.transform(list(dff[col].values))\n",
    "\n",
    "            # dff[col] = dff[col].astype('category')\n",
    "    \n",
    "    return dff"
   ]
  },
  {
   "cell_type": "code",
   "execution_count": 150,
   "metadata": {},
   "outputs": [],
   "source": [
    "def logistic_pipeline(df: pd.DataFrame, exclude_numerical: list = [], include_categorical: list = []) -> pd.DataFrame:\n",
    "    dff = df.copy()\n",
    "\n",
    "    if 'TransactionDT' in dff.columns:\n",
    "        dff = dff.sort_values(by='TransactionDT')\n",
    "        dff = dff.drop(columns=['TransactionDT'])\n",
    "    if 'TransactionID' in dff.columns:\n",
    "        dff = dff.drop(columns=['TransactionID'])\n",
    "\n",
    "    dff = inf_to_nan(dff)\n",
    "    dff = fill_numerical_cols_and_scale(dff, exclude=exclude_numerical)\n",
    "    dff = label_encoding(dff, include=include_categorical)\n",
    "\n",
    "    dff = dff.reset_index(drop=True)\n",
    "\n",
    "    return dff"
   ]
  },
  {
   "cell_type": "code",
   "execution_count": 151,
   "metadata": {},
   "outputs": [],
   "source": [
    "dff = logistic_pipeline(dff, exclude_numerical=time_features, include_categorical=time_features + ['uid'])"
   ]
  },
  {
   "cell_type": "code",
   "execution_count": 152,
   "metadata": {},
   "outputs": [
    {
     "name": "stdout",
     "output_type": "stream",
     "text": [
      "<class 'pandas.core.frame.DataFrame'>\n",
      "RangeIndex: 590538 entries, 0 to 590537\n",
      "Columns: 229 entries, isFraud to hour_of_day\n",
      "dtypes: float64(184), int32(30), int64(15)\n",
      "memory usage: 964.2 MB\n"
     ]
    }
   ],
   "source": [
    "dff.info()"
   ]
  },
  {
   "cell_type": "markdown",
   "metadata": {},
   "source": [
    "### Export dataset after feature engineering without performing split"
   ]
  },
  {
   "cell_type": "code",
   "execution_count": 153,
   "metadata": {},
   "outputs": [],
   "source": [
    "def export_dataframe(df: pd.DataFrame, path: str, file_name: str, type: str = 'feather'):\n",
    "    if type == 'feather':\n",
    "        full_path = os.path.join(path, file_name + '.feather')\n",
    "        df.to_feather(full_path)\n",
    "    elif type == 'csv':\n",
    "        full_path = os.path.join(path, file_name + '.csv')\n",
    "        df.to_csv(full_path)"
   ]
  },
  {
   "cell_type": "code",
   "execution_count": 154,
   "metadata": {},
   "outputs": [],
   "source": [
    "export_dataframe(dff, '../data', 'FE_dataset')"
   ]
  },
  {
   "cell_type": "markdown",
   "metadata": {},
   "source": [
    "## Train test dataset split"
   ]
  },
  {
   "cell_type": "code",
   "execution_count": 155,
   "metadata": {},
   "outputs": [],
   "source": [
    "def train_test_split(df: pd.DataFrame, ratio: float=0.8, eq_fraudulent: bool = False, fraudulent_multiplier: float = 5) -> pd.DataFrame:\n",
    "    dff = df.copy()\n",
    "    # dff = dff.sort_values(by='TransactionDT')\n",
    "\n",
    "    idx_train = dff.index[:int(dff.shape[0] * ratio)]\n",
    "    idx_test = dff.index[int(dff.shape[0] * ratio):]\n",
    "\n",
    "    df_train = dff.iloc[idx_train]\n",
    "    df_test = dff.iloc[idx_test]\n",
    "\n",
    "    df_train = df_train.reset_index(drop=True)\n",
    "    df_test = df_test.reset_index(drop=True)\n",
    "\n",
    "\n",
    "    if eq_fraudulent == True:\n",
    "        df_train_fraud = df_train[df_train['isFraud'] == 1]\n",
    "        df_train_fraud = pd.concat([df_train_fraud] * fraudulent_multiplier)\n",
    "        df_train = pd.concat([df_train, df_train_fraud])\n",
    "        df_train = df_train.reset_index(drop=True) \n",
    "\n",
    "    y_train = df_train['isFraud']\n",
    "    x_train = df_train.drop(columns=['isFraud'])\n",
    "\n",
    "    y_test = df_test['isFraud']\n",
    "    x_test = df_test.drop(columns=['isFraud'])\n",
    "\n",
    "    return x_train, y_train, x_test, y_test\n",
    "\n"
   ]
  },
  {
   "cell_type": "code",
   "execution_count": 156,
   "metadata": {},
   "outputs": [],
   "source": [
    "x_train, y_train, x_test, y_test = train_test_split(dff, 0.75, eq_fraudulent=False, fraudulent_multiplier=1)"
   ]
  },
  {
   "cell_type": "code",
   "execution_count": 157,
   "metadata": {},
   "outputs": [
    {
     "data": {
      "text/plain": [
       "<bound method DataFrame.info of         TransactionAmt  ProductCD  card1  card2  card3  card4  card5  card6  \\\n",
       "0            -0.286425          4  10095    260     42      2     38      2   \n",
       "1            -0.456764          4   1372    303     42      3      2      2   \n",
       "2            -0.327393          4   2833    389     42      4     58      3   \n",
       "3            -0.366204          4  13341    466     42      3     14      3   \n",
       "4            -0.366204          1   2712    413     42      3      2      2   \n",
       "...                ...        ...    ...    ...    ...    ...    ...    ...   \n",
       "442898       -0.116302          4   5048    220     42      4    108      3   \n",
       "442899       -0.428052          0  11593    444     73      4     34      3   \n",
       "442900       -0.448355          4   6995    354     42      3     22      3   \n",
       "442901       -0.331921          4   6601     10     42      4    108      3   \n",
       "442902       -0.331921          4    729    220     42      4    108      3   \n",
       "\n",
       "        addr1  addr2  ...  id_34  id_35  id_36  id_37  id_38  DeviceType  \\\n",
       "0         166     62  ...      0      1      1      1      1           0   \n",
       "1         173     62  ...      0      1      1      1      1           0   \n",
       "2         178     62  ...      0      1      1      1      1           0   \n",
       "3         282     62  ...      0      1      1      1      1           0   \n",
       "4         241     62  ...      4      2      0      2      2           2   \n",
       "...       ...    ...  ...    ...    ...    ...    ...    ...         ...   \n",
       "442898     91     62  ...      0      1      1      1      1           0   \n",
       "442899    151     62  ...      0      0      0      2      0           1   \n",
       "442900     42     62  ...      0      1      1      1      1           0   \n",
       "442901    166     62  ...      0      1      1      1      1           0   \n",
       "442902    175     62  ...      0      1      1      1      1           0   \n",
       "\n",
       "        DeviceInfo     uid  day_of_week  hour_of_day  \n",
       "0              717   60731            0            0  \n",
       "1              717  141885            0            0  \n",
       "2              717  167939            0            0  \n",
       "3              717  122986            0            0  \n",
       "4              955  166403            0            0  \n",
       "...            ...     ...          ...          ...  \n",
       "442898         717  203335            3            3  \n",
       "442899        1599   88327            3            3  \n",
       "442900         717  245751            3            3  \n",
       "442901         717  237911            3            4  \n",
       "442902         717  129612            3            4  \n",
       "\n",
       "[442903 rows x 228 columns]>"
      ]
     },
     "execution_count": 157,
     "metadata": {},
     "output_type": "execute_result"
    }
   ],
   "source": [
    "x_train.info"
   ]
  },
  {
   "cell_type": "code",
   "execution_count": 158,
   "metadata": {},
   "outputs": [
    {
     "data": {
      "image/png": "[encoded data removed]",
      "text/plain": [
       "<Figure size 500x500 with 1 Axes>"
      ]
     },
     "metadata": {},
     "output_type": "display_data"
    }
   ],
   "source": [
    "sns.displot(data=y_train)\n",
    "plt.show()"
   ]
  },
  {
   "cell_type": "markdown",
   "metadata": {},
   "source": [
    "### Export splitted dataset to feather files"
   ]
  },
  {
   "cell_type": "code",
   "execution_count": 166,
   "metadata": {},
   "outputs": [],
   "source": [
    "def export_splitted_data(x_train: pd.DataFrame, y_train: pd.DataFrame, x_test: pd.DataFrame, y_test: pd.DataFrame, path: str):\n",
    "    export_dataframe(x_train, path, 'x_train')\n",
    "    export_dataframe(y_train, path, 'y_train', 'csv')\n",
    "    export_dataframe(x_test, path, 'x_test')\n",
    "    export_dataframe(y_test, path, 'y_test', 'csv')"
   ]
  },
  {
   "cell_type": "code",
   "execution_count": 167,
   "metadata": {},
   "outputs": [],
   "source": [
    "export_splitted_data(x_train, y_train, x_test, y_test, '../data')"
   ]
  },
  {
   "cell_type": "markdown",
   "metadata": {},
   "source": [
    "## XGBoost"
   ]
  },
  {
   "cell_type": "code",
   "execution_count": 161,
   "metadata": {},
   "outputs": [],
   "source": [
    "import xgboost as xgb\n",
    "from xgboost import plot_importance\n",
    "from sklearn.model_selection import RandomizedSearchCV"
   ]
  },
  {
   "cell_type": "code",
   "execution_count": 162,
   "metadata": {},
   "outputs": [],
   "source": [
    "def xg_boost(x_train: pd.DataFrame, y_train: pd.Series, x_test: pd.DataFrame, y_test: pd.Series):\n",
    "    clf = xgb.XGBClassifier( \n",
    "        missing=-1, learning_rate=0.02,\n",
    "        eval_metric='auc', tree_method='gpu_hist',colsample_bytree=0.4,max_depth=12,n_estimators=2000,\n",
    "        subsample=0.8, early_stopping_rounds=100)\n",
    "\n",
    "    # d_train = xgb.DMatrix(X_train, label=y_train, enable_categorical=True)\n",
    "    #     d_validation = xgb.DMatrix(\n",
    "    #         X_validation, label=y_validation, enable_categorical=True\n",
    "    #     )\n",
    "\n",
    "\n",
    "    model = clf.fit(x_train, y_train, eval_set=[(x_test, y_test)], verbose=10)\n",
    "    \n",
    "    fpr, tpr, thresholds = roc_curve(y_test, model.predict_proba(x_test)[:, 1])\n",
    "\n",
    "    sns.lineplot(x=fpr, y=tpr)\n",
    "    plt.show()\n",
    "\n",
    "    print('Area under roc {}'.format(auc(fpr, tpr)))\n",
    "\n",
    "    _, ax = plt.subplots(figsize=(10, 12), dpi=80)\n",
    "    xgb.plot_importance(\n",
    "        model,\n",
    "        height=0.75,\n",
    "        importance_type=\"gain\",\n",
    "        max_num_features=50,\n",
    "        show_values=False,\n",
    "        ax=ax,\n",
    "    )\n",
    "    plt.show()\n",
    "\n",
    "    return auc(fpr, tpr)"
   ]
  },
  {
   "cell_type": "code",
   "execution_count": 163,
   "metadata": {},
   "outputs": [
    {
     "name": "stdout",
     "output_type": "stream",
     "text": [
      "[0]\tvalidation_0-auc:0.79236\n",
      "[10]\tvalidation_0-auc:0.84545\n",
      "[20]\tvalidation_0-auc:0.85075\n",
      "[30]\tvalidation_0-auc:0.85365\n",
      "[40]\tvalidation_0-auc:0.85860\n",
      "[50]\tvalidation_0-auc:0.86059\n",
      "[60]\tvalidation_0-auc:0.86387\n",
      "[70]\tvalidation_0-auc:0.86583\n",
      "[80]\tvalidation_0-auc:0.86909\n",
      "[90]\tvalidation_0-auc:0.87111\n",
      "[100]\tvalidation_0-auc:0.87590\n",
      "[110]\tvalidation_0-auc:0.87920\n",
      "[120]\tvalidation_0-auc:0.88165\n",
      "[130]\tvalidation_0-auc:0.88308\n",
      "[140]\tvalidation_0-auc:0.88491\n",
      "[150]\tvalidation_0-auc:0.88754\n",
      "[160]\tvalidation_0-auc:0.88927\n",
      "[170]\tvalidation_0-auc:0.89068\n",
      "[180]\tvalidation_0-auc:0.89255\n",
      "[190]\tvalidation_0-auc:0.89483\n",
      "[200]\tvalidation_0-auc:0.89670\n",
      "[210]\tvalidation_0-auc:0.89834\n",
      "[220]\tvalidation_0-auc:0.90054\n",
      "[230]\tvalidation_0-auc:0.90237\n",
      "[240]\tvalidation_0-auc:0.90425\n",
      "[250]\tvalidation_0-auc:0.90617\n",
      "[260]\tvalidation_0-auc:0.90727\n",
      "[270]\tvalidation_0-auc:0.90870\n",
      "[280]\tvalidation_0-auc:0.90996\n",
      "[290]\tvalidation_0-auc:0.91147\n",
      "[300]\tvalidation_0-auc:0.91308\n",
      "[310]\tvalidation_0-auc:0.91409\n",
      "[320]\tvalidation_0-auc:0.91497\n",
      "[330]\tvalidation_0-auc:0.91592\n",
      "[340]\tvalidation_0-auc:0.91678\n",
      "[350]\tvalidation_0-auc:0.91773\n",
      "[360]\tvalidation_0-auc:0.91855\n",
      "[370]\tvalidation_0-auc:0.91920\n",
      "[380]\tvalidation_0-auc:0.91967\n",
      "[390]\tvalidation_0-auc:0.92027\n",
      "[400]\tvalidation_0-auc:0.92077\n",
      "[410]\tvalidation_0-auc:0.92116\n",
      "[420]\tvalidation_0-auc:0.92151\n",
      "[430]\tvalidation_0-auc:0.92169\n",
      "[440]\tvalidation_0-auc:0.92188\n",
      "[450]\tvalidation_0-auc:0.92232\n",
      "[460]\tvalidation_0-auc:0.92269\n",
      "[470]\tvalidation_0-auc:0.92301\n",
      "[480]\tvalidation_0-auc:0.92342\n",
      "[490]\tvalidation_0-auc:0.92375\n",
      "[500]\tvalidation_0-auc:0.92401\n",
      "[510]\tvalidation_0-auc:0.92400\n",
      "[520]\tvalidation_0-auc:0.92431\n",
      "[530]\tvalidation_0-auc:0.92440\n",
      "[540]\tvalidation_0-auc:0.92455\n",
      "[550]\tvalidation_0-auc:0.92461\n",
      "[560]\tvalidation_0-auc:0.92476\n",
      "[570]\tvalidation_0-auc:0.92484\n",
      "[580]\tvalidation_0-auc:0.92494\n",
      "[590]\tvalidation_0-auc:0.92489\n",
      "[600]\tvalidation_0-auc:0.92483\n",
      "[610]\tvalidation_0-auc:0.92482\n",
      "[620]\tvalidation_0-auc:0.92494\n",
      "[630]\tvalidation_0-auc:0.92519\n",
      "[640]\tvalidation_0-auc:0.92517\n",
      "[650]\tvalidation_0-auc:0.92528\n",
      "[660]\tvalidation_0-auc:0.92538\n",
      "[670]\tvalidation_0-auc:0.92543\n",
      "[680]\tvalidation_0-auc:0.92547\n",
      "[690]\tvalidation_0-auc:0.92557\n",
      "[700]\tvalidation_0-auc:0.92557\n",
      "[710]\tvalidation_0-auc:0.92561\n",
      "[720]\tvalidation_0-auc:0.92560\n",
      "[730]\tvalidation_0-auc:0.92553\n",
      "[740]\tvalidation_0-auc:0.92550\n",
      "[750]\tvalidation_0-auc:0.92551\n",
      "[760]\tvalidation_0-auc:0.92546\n",
      "[770]\tvalidation_0-auc:0.92536\n",
      "[780]\tvalidation_0-auc:0.92522\n",
      "[790]\tvalidation_0-auc:0.92520\n",
      "[800]\tvalidation_0-auc:0.92516\n",
      "[808]\tvalidation_0-auc:0.92523\n"
     ]
    },
    {
     "data": {
      "image/png": "[encoded data removed]",
      "text/plain": [
       "<Figure size 640x480 with 1 Axes>"
      ]
     },
     "metadata": {},
     "output_type": "display_data"
    },
    {
     "name": "stdout",
     "output_type": "stream",
     "text": [
      "Area under roc 0.9256334068618853\n"
     ]
    },
    {
     "data": {
      "image/png": "[encoded data removed]",
      "text/plain": [
       "<Figure size 800x960 with 1 Axes>"
      ]
     },
     "metadata": {},
     "output_type": "display_data"
    },
    {
     "data": {
      "text/plain": [
       "0.9256334068618853"
      ]
     },
     "execution_count": 163,
     "metadata": {},
     "output_type": "execute_result"
    }
   ],
   "source": [
    "xg_boost(x_train, y_train, x_test, y_test)"
   ]
  }
 ],
 "metadata": {
  "kernelspec": {
   "display_name": "Python 3.10.4 ('IEEE_CIS_Fraud_Detection-GY5ZS6V-')",
   "language": "python",
   "name": "python3"
  },
  "language_info": {
   "codemirror_mode": {
    "name": "ipython",
    "version": 3
   },
   "file_extension": ".py",
   "mimetype": "text/x-python",
   "name": "python",
   "nbconvert_exporter": "python",
   "pygments_lexer": "ipython3",
   "version": "3.10.4"
  },
  "orig_nbformat": 4,
  "vscode": {
   "interpreter": {
    "hash": "9033db4938573ae0c204a8a9a6a53aaa42db8bd5d7646e0d79370991e02a90a7"
   }
  }
 },
 "nbformat": 4,
 "nbformat_minor": 2
}
