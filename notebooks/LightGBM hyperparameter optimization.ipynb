{
 "cells": [
  {
   "cell_type": "code",
   "execution_count": 36,
   "metadata": {},
   "outputs": [],
   "source": [
    "import numpy as np\n",
    "import pandas as pd\n",
    "import matplotlib.pyplot as plt\n",
    "import seaborn as sns\n",
    "from sklearn.model_selection import RandomizedSearchCV\n",
    "from sklearn.metrics import roc_curve, auc\n",
    "import lightgbm as lgb\n",
    "import os\n",
    "import joblib"
   ]
  },
  {
   "cell_type": "markdown",
   "metadata": {},
   "source": [
    "## Import datasets"
   ]
  },
  {
   "cell_type": "code",
   "execution_count": 37,
   "metadata": {},
   "outputs": [],
   "source": [
    "def import_datasets(path: str) -> pd.DataFrame:\n",
    "    x_train = pd.read_feather(os.path.join(path, 'x_train.feather'))\n",
    "    y_train = pd.read_csv(os.path.join(path, 'y_train.csv'), index_col=False, header=0)\n",
    "    y_train = y_train['isFraud']\n",
    "    x_test = pd.read_feather(os.path.join(path, 'x_test.feather'))\n",
    "    y_test = pd.read_csv(os.path.join(path, 'y_test.csv'), index_col=False, header=0)\n",
    "    y_test = y_test['isFraud']\n",
    "\n",
    "    return x_train, y_train, x_test, y_test"
   ]
  },
  {
   "cell_type": "code",
   "execution_count": 38,
   "metadata": {},
   "outputs": [],
   "source": [
    "x_train, y_train, x_test, y_test = import_datasets('../data')"
   ]
  },
  {
   "cell_type": "code",
   "execution_count": 39,
   "metadata": {},
   "outputs": [
    {
     "name": "stdout",
     "output_type": "stream",
     "text": [
      "<class 'pandas.core.frame.DataFrame'>\n",
      "RangeIndex: 442903 entries, 0 to 442902\n",
      "Columns: 228 entries, TransactionAmt to hour_of_day\n",
      "dtypes: float64(184), int32(30), int64(14)\n",
      "memory usage: 719.7 MB\n"
     ]
    }
   ],
   "source": [
    "x_train.info()"
   ]
  },
  {
   "cell_type": "markdown",
   "metadata": {},
   "source": [
    "## Train model"
   ]
  },
  {
   "cell_type": "code",
   "execution_count": 40,
   "metadata": {},
   "outputs": [],
   "source": [
    "from sklearn.model_selection import GridSearchCV"
   ]
  },
  {
   "cell_type": "code",
   "execution_count": 41,
   "metadata": {},
   "outputs": [],
   "source": [
    "def optimize_parameters(x_train: pd.DataFrame, y_train: pd.DataFrame, x_test: pd.DataFrame, y_test: pd.DataFrame):\n",
    "    params = {'n_estimators': [100, 200, 500, 1000, 1500, 2000], 'max_depth': [3, 6, 12], 'subsample': [0.4, 0.8]}\n",
    "\n",
    "    clf = lgb.LGBMClassifier(\n",
    "        learning_rate=0.02, random_state=42, colsample_bytree=0.4)\n",
    "\n",
    "    model = GridSearchCV(estimator=clf, param_grid=params, scoring='roc_auc', verbose=3, n_jobs=-1)\n",
    "    model.fit(x_train, y_train)\n",
    "\n",
    "    print (model.best_params_)\n",
    "\n",
    "    return model"
   ]
  },
  {
   "cell_type": "code",
   "execution_count": 42,
   "metadata": {},
   "outputs": [
    {
     "name": "stdout",
     "output_type": "stream",
     "text": [
      "Fitting 5 folds for each of 36 candidates, totalling 180 fits\n",
      "{'max_depth': 12, 'n_estimators': 2000, 'subsample': 0.4}\n"
     ]
    }
   ],
   "source": [
    "model = optimize_parameters(x_train, y_train, x_test, y_test)"
   ]
  },
  {
   "cell_type": "code",
   "execution_count": 43,
   "metadata": {},
   "outputs": [
    {
     "data": {
      "text/plain": [
       "['../models/lgbm_gscv.joblib']"
      ]
     },
     "execution_count": 43,
     "metadata": {},
     "output_type": "execute_result"
    }
   ],
   "source": [
    "joblib.dump(model, '../models/lgbm_gscv.joblib')"
   ]
  }
 ],
 "metadata": {
  "kernelspec": {
   "display_name": "Python 3.10.4 ('CIS_Fraud_Detection-LG0CXV5L')",
   "language": "python",
   "name": "python3"
  },
  "language_info": {
   "codemirror_mode": {
    "name": "ipython",
    "version": 3
   },
   "file_extension": ".py",
   "mimetype": "text/x-python",
   "name": "python",
   "nbconvert_exporter": "python",
   "pygments_lexer": "ipython3",
   "version": "3.10.4"
  },
  "orig_nbformat": 4,
  "vscode": {
   "interpreter": {
    "hash": "4671146a194b24fffd2abc0c3bf10ccf4756ced7cc3a388d0d176331d3a6c726"
   }
  }
 },
 "nbformat": 4,
 "nbformat_minor": 2
}
