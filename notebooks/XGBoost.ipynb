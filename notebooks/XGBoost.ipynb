{
 "cells": [
  {
   "cell_type": "markdown",
   "metadata": {},
   "source": [
    "# XGBoost"
   ]
  },
  {
   "cell_type": "code",
   "execution_count": 106,
   "metadata": {},
   "outputs": [],
   "source": [
    "import numpy as np\n",
    "import pandas as pd\n",
    "import matplotlib.pyplot as plt\n",
    "import seaborn as sns\n",
    "import xgboost as xgb\n",
    "from xgboost import plot_importance\n",
    "from sklearn.model_selection import RandomizedSearchCV\n",
    "from sklearn.metrics import roc_curve, auc\n",
    "import os\n",
    "from sklearn.impute import SimpleImputer\n",
    "from sklearn.preprocessing import StandardScaler, LabelEncoder"
   ]
  },
  {
   "cell_type": "markdown",
   "metadata": {},
   "source": [
    "## Import datasets"
   ]
  },
  {
   "cell_type": "code",
   "execution_count": 107,
   "metadata": {},
   "outputs": [],
   "source": [
    "def import_datasets(path: str) -> pd.DataFrame:\n",
    "    x_train = pd.read_feather(os.path.join(path, 'x_train.feather'))\n",
    "    y_train = pd.read_csv(os.path.join(path, 'y_train.csv'), index_col=False, header=0)\n",
    "    y_train = y_train['isFraud']\n",
    "    x_test = pd.read_feather(os.path.join(path, 'x_test.feather'))\n",
    "    y_test = pd.read_csv(os.path.join(path, 'y_test.csv'), index_col=False, header=0)\n",
    "    y_test = y_test['isFraud']\n",
    "\n",
    "    return x_train, y_train, x_test, y_test"
   ]
  },
  {
   "cell_type": "code",
   "execution_count": 108,
   "metadata": {},
   "outputs": [],
   "source": [
    "x_train, y_train, x_test, y_test = import_datasets('../data')"
   ]
  },
  {
   "cell_type": "code",
   "execution_count": 109,
   "metadata": {},
   "outputs": [
    {
     "name": "stdout",
     "output_type": "stream",
     "text": [
      "<class 'pandas.core.frame.DataFrame'>\n",
      "RangeIndex: 442903 entries, 0 to 442902\n",
      "Columns: 228 entries, TransactionAmt to hour_of_day\n",
      "dtypes: float64(184), int32(30), int64(14)\n",
      "memory usage: 719.7 MB\n"
     ]
    }
   ],
   "source": [
    "x_train.info()"
   ]
  },
  {
   "cell_type": "code",
   "execution_count": 110,
   "metadata": {},
   "outputs": [],
   "source": [
    "def xg_boost_train(x_train: pd.DataFrame, y_train: pd.Series, x_test: pd.DataFrame, y_test: pd.Series):\n",
    "    clf = xgb.XGBClassifier( \n",
    "        learning_rate=0.02, eval_metric='auc', tree_method='gpu_hist',colsample_bytree=0.4,max_depth=12, \n",
    "        n_estimators=2000, subsample=0.8, early_stopping_rounds=100)\n",
    "\n",
    "    model = clf.fit(x_train, y_train, eval_set=[(x_test, y_test)], verbose=10)\n",
    "    \n",
    "    return model"
   ]
  },
  {
   "cell_type": "markdown",
   "metadata": {},
   "source": [
    "## Train model"
   ]
  },
  {
   "cell_type": "code",
   "execution_count": 111,
   "metadata": {},
   "outputs": [
    {
     "name": "stdout",
     "output_type": "stream",
     "text": [
      "[0]\tvalidation_0-auc:0.79236\n",
      "[10]\tvalidation_0-auc:0.84545\n",
      "[20]\tvalidation_0-auc:0.85075\n",
      "[30]\tvalidation_0-auc:0.85365\n",
      "[40]\tvalidation_0-auc:0.85860\n",
      "[50]\tvalidation_0-auc:0.86059\n",
      "[60]\tvalidation_0-auc:0.86387\n",
      "[70]\tvalidation_0-auc:0.86583\n",
      "[80]\tvalidation_0-auc:0.86909\n",
      "[90]\tvalidation_0-auc:0.87111\n",
      "[100]\tvalidation_0-auc:0.87590\n",
      "[110]\tvalidation_0-auc:0.87920\n",
      "[120]\tvalidation_0-auc:0.88165\n",
      "[130]\tvalidation_0-auc:0.88308\n",
      "[140]\tvalidation_0-auc:0.88491\n",
      "[150]\tvalidation_0-auc:0.88754\n",
      "[160]\tvalidation_0-auc:0.88927\n",
      "[170]\tvalidation_0-auc:0.89068\n",
      "[180]\tvalidation_0-auc:0.89255\n",
      "[190]\tvalidation_0-auc:0.89483\n",
      "[200]\tvalidation_0-auc:0.89670\n",
      "[210]\tvalidation_0-auc:0.89834\n",
      "[220]\tvalidation_0-auc:0.90054\n",
      "[230]\tvalidation_0-auc:0.90237\n",
      "[240]\tvalidation_0-auc:0.90425\n",
      "[250]\tvalidation_0-auc:0.90617\n",
      "[260]\tvalidation_0-auc:0.90727\n",
      "[270]\tvalidation_0-auc:0.90870\n",
      "[280]\tvalidation_0-auc:0.90996\n",
      "[290]\tvalidation_0-auc:0.91147\n",
      "[300]\tvalidation_0-auc:0.91308\n",
      "[310]\tvalidation_0-auc:0.91409\n",
      "[320]\tvalidation_0-auc:0.91497\n",
      "[330]\tvalidation_0-auc:0.91592\n",
      "[340]\tvalidation_0-auc:0.91678\n",
      "[350]\tvalidation_0-auc:0.91773\n",
      "[360]\tvalidation_0-auc:0.91855\n",
      "[370]\tvalidation_0-auc:0.91920\n",
      "[380]\tvalidation_0-auc:0.91967\n",
      "[390]\tvalidation_0-auc:0.92027\n",
      "[400]\tvalidation_0-auc:0.92077\n",
      "[410]\tvalidation_0-auc:0.92116\n",
      "[420]\tvalidation_0-auc:0.92151\n",
      "[430]\tvalidation_0-auc:0.92169\n",
      "[440]\tvalidation_0-auc:0.92188\n",
      "[450]\tvalidation_0-auc:0.92232\n",
      "[460]\tvalidation_0-auc:0.92269\n",
      "[470]\tvalidation_0-auc:0.92301\n",
      "[480]\tvalidation_0-auc:0.92342\n",
      "[490]\tvalidation_0-auc:0.92375\n",
      "[500]\tvalidation_0-auc:0.92401\n",
      "[510]\tvalidation_0-auc:0.92400\n",
      "[520]\tvalidation_0-auc:0.92431\n",
      "[530]\tvalidation_0-auc:0.92440\n",
      "[540]\tvalidation_0-auc:0.92455\n",
      "[550]\tvalidation_0-auc:0.92461\n",
      "[560]\tvalidation_0-auc:0.92476\n",
      "[570]\tvalidation_0-auc:0.92484\n",
      "[580]\tvalidation_0-auc:0.92494\n",
      "[590]\tvalidation_0-auc:0.92489\n",
      "[600]\tvalidation_0-auc:0.92483\n",
      "[610]\tvalidation_0-auc:0.92482\n",
      "[620]\tvalidation_0-auc:0.92494\n",
      "[630]\tvalidation_0-auc:0.92519\n",
      "[640]\tvalidation_0-auc:0.92517\n",
      "[650]\tvalidation_0-auc:0.92528\n",
      "[660]\tvalidation_0-auc:0.92538\n",
      "[670]\tvalidation_0-auc:0.92543\n",
      "[680]\tvalidation_0-auc:0.92547\n",
      "[690]\tvalidation_0-auc:0.92557\n",
      "[700]\tvalidation_0-auc:0.92557\n",
      "[710]\tvalidation_0-auc:0.92561\n",
      "[720]\tvalidation_0-auc:0.92560\n",
      "[730]\tvalidation_0-auc:0.92553\n",
      "[740]\tvalidation_0-auc:0.92550\n",
      "[750]\tvalidation_0-auc:0.92551\n",
      "[760]\tvalidation_0-auc:0.92546\n",
      "[770]\tvalidation_0-auc:0.92536\n",
      "[780]\tvalidation_0-auc:0.92522\n",
      "[790]\tvalidation_0-auc:0.92520\n",
      "[800]\tvalidation_0-auc:0.92516\n",
      "[809]\tvalidation_0-auc:0.92519\n"
     ]
    }
   ],
   "source": [
    "model = xg_boost_train(x_train, y_train, x_test, y_test)"
   ]
  },
  {
   "cell_type": "markdown",
   "metadata": {},
   "source": [
    "## Visualize results using auc metric"
   ]
  },
  {
   "cell_type": "code",
   "execution_count": 112,
   "metadata": {},
   "outputs": [],
   "source": [
    "def xg_boost_performance(model, x_test: pd.DataFrame, y_test: pd.DataFrame) -> float:\n",
    "    fpr, tpr, thresholds = roc_curve(y_test, model.predict_proba(x_test)[:, 1])\n",
    "\n",
    "    sns.lineplot(x=fpr, y=tpr)\n",
    "    plt.show()\n",
    "\n",
    "    print('Area under roc {}'.format(auc(fpr, tpr)))\n",
    "\n",
    "    _, ax = plt.subplots(figsize=(10, 12), dpi=80)\n",
    "    xgb.plot_importance(\n",
    "        model,\n",
    "        height=0.75,\n",
    "        importance_type=\"gain\",\n",
    "        max_num_features=50,\n",
    "        show_values=False,\n",
    "        ax=ax,\n",
    "    )\n",
    "    plt.show()\n",
    "\n",
    "    return auc(fpr, tpr)"
   ]
  },
  {
   "cell_type": "code",
   "execution_count": 113,
   "metadata": {},
   "outputs": [
    {
     "data": {
      "image/png": "[encoded data removed]",
      "text/plain": [
       "<Figure size 432x288 with 1 Axes>"
      ]
     },
     "metadata": {
      "needs_background": "light"
     },
     "output_type": "display_data"
    },
    {
     "name": "stdout",
     "output_type": "stream",
     "text": [
      "Area under roc 0.9256334068618853\n"
     ]
    },
    {
     "data": {
      "image/png": "[encoded data removed]",
      "text/plain": [
       "<Figure size 800x960 with 1 Axes>"
      ]
     },
     "metadata": {
      "needs_background": "light"
     },
     "output_type": "display_data"
    },
    {
     "data": {
      "text/plain": [
       "0.9256334068618853"
      ]
     },
     "execution_count": 113,
     "metadata": {},
     "output_type": "execute_result"
    }
   ],
   "source": [
    "xg_boost_performance(model, x_test, y_test)"
   ]
  },
  {
   "cell_type": "markdown",
   "metadata": {},
   "source": [
    "## Saving model"
   ]
  },
  {
   "cell_type": "code",
   "execution_count": 115,
   "metadata": {},
   "outputs": [],
   "source": [
    "model.save_model('../models/xg_boost.json')"
   ]
  }
 ],
 "metadata": {
  "kernelspec": {
   "display_name": "Python 3.10.4 ('CIS_Fraud_Detection-LG0CXV5L')",
   "language": "python",
   "name": "python3"
  },
  "language_info": {
   "codemirror_mode": {
    "name": "ipython",
    "version": 3
   },
   "file_extension": ".py",
   "mimetype": "text/x-python",
   "name": "python",
   "nbconvert_exporter": "python",
   "pygments_lexer": "ipython3",
   "version": "3.10.4"
  },
  "orig_nbformat": 4,
  "vscode": {
   "interpreter": {
    "hash": "4671146a194b24fffd2abc0c3bf10ccf4756ced7cc3a388d0d176331d3a6c726"
   }
  }
 },
 "nbformat": 4,
 "nbformat_minor": 2
}
